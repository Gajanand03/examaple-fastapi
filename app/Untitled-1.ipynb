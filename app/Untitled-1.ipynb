{
 "cells": [
  {
   "cell_type": "code",
   "execution_count": 1,
   "metadata": {},
   "outputs": [],
   "source": [
    "my_posts = [{\"title\" : \"title of post 1\", \"content\" : \"content of post 1\", \"id\" : 1},\n",
    "            {\"title\" : \"Favorite food\", \"content\" : \"I like pizza\", \"id\" : 2}]"
   ]
  },
  {
   "cell_type": "code",
   "execution_count": 2,
   "metadata": {},
   "outputs": [],
   "source": [
    "def find_index_post(id):\n",
    "    for i, p in enumerate(my_posts):\n",
    "        if p[\"id\"] == id:\n",
    "            return i "
   ]
  },
  {
   "cell_type": "code",
   "execution_count": 4,
   "metadata": {},
   "outputs": [
    {
     "data": {
      "text/plain": [
       "1"
      ]
     },
     "execution_count": 4,
     "metadata": {},
     "output_type": "execute_result"
    }
   ],
   "source": [
    "find_index_post(2)"
   ]
  },
  {
   "cell_type": "code",
   "execution_count": 8,
   "metadata": {},
   "outputs": [
    {
     "name": "stdout",
     "output_type": "stream",
     "text": [
      "True\n",
      "False\n"
     ]
    }
   ],
   "source": [
    "for p in my_posts:\n",
    "    print(p['id'] == find_index_post(2))"
   ]
  },
  {
   "cell_type": "code",
   "execution_count": 12,
   "metadata": {},
   "outputs": [],
   "source": [
    "import base64\n",
    "\n",
    "with open(\"Karmanye-Vadhikaraste-Shloka-1.jpg\", 'rb') as file:\n",
    "    pdf_file = base64.b64encode(file.read())"
   ]
  },
  {
   "cell_type": "code",
   "execution_count": 15,
   "metadata": {},
   "outputs": [],
   "source": [
    "with open(\"img.txt\", 'w') as file:\n",
    "    file.write(str(pdf_file))"
   ]
  },
  {
   "cell_type": "code",
   "execution_count": null,
   "metadata": {},
   "outputs": [],
   "source": [
    "\n",
    "my_posts = [{\"title\" : \"title of post 1\", \"content\" : \"content of post 1\", \"id\" : 1},\n",
    "            {\"title\" : \"Favorite food\", \"content\" : \"I like pizza\", \"id\" : 2}]\n",
    "\n",
    "def find_post(id):\n",
    "    for p in my_posts:\n",
    "        if p[\"id\"] == id:\n",
    "            return p\n",
    "\n",
    "def find_index_post(id):\n",
    "    for i, p in enumerate(my_posts):\n",
    "        if p['id'] == id:\n",
    "            return i"
   ]
  }
 ],
 "metadata": {
  "kernelspec": {
   "display_name": "Python 3.10.4 64-bit",
   "language": "python",
   "name": "python3"
  },
  "language_info": {
   "codemirror_mode": {
    "name": "ipython",
    "version": 3
   },
   "file_extension": ".py",
   "mimetype": "text/x-python",
   "name": "python",
   "nbconvert_exporter": "python",
   "pygments_lexer": "ipython3",
   "version": "3.10.4"
  },
  "orig_nbformat": 4,
  "vscode": {
   "interpreter": {
    "hash": "26de051ba29f2982a8de78e945f0abaf191376122a1563185a90213a26c5da77"
   }
  }
 },
 "nbformat": 4,
 "nbformat_minor": 2
}
